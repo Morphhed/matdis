{
  "nbformat": 4,
  "nbformat_minor": 0,
  "metadata": {
    "colab": {
      "provenance": []
    },
    "kernelspec": {
      "name": "python3",
      "display_name": "Python 3"
    },
    "language_info": {
      "name": "python"
    }
  },
  "cells": [
    {
      "cell_type": "code",
      "source": [
        "import math"
      ],
      "metadata": {
        "id": "3qcbwqKRJ7Hi"
      },
      "execution_count": null,
      "outputs": []
    },
    {
      "cell_type": "markdown",
      "source": [
        "12. How many bit strings of length 12 contain :\n",
        "\n",
        "    a) exactly three 1s?\n",
        "\n",
        "    b) at most three 1s?\n",
        "\n",
        "    c) at least three 1s?\n",
        "\n",
        "    d) an equal number of 0s and 1s?\n",
        "    \n",
        "    Jawab :"
      ],
      "metadata": {
        "id": "qkSjtxaqKdsy"
      }
    },
    {
      "cell_type": "markdown",
      "source": [
        "**a** :\n",
        "\n",
        "Dik : n = 12 dan r = 3"
      ],
      "metadata": {
        "id": "YJ1ZeFE-VPsE"
      }
    },
    {
      "cell_type": "code",
      "source": [
        "def kombinasi(n,r):\n",
        "  return math.factorial(n)//(math.factorial(r)*math.factorial(n-r))"
      ],
      "metadata": {
        "id": "fPxR1URwLH0t"
      },
      "execution_count": null,
      "outputs": []
    },
    {
      "cell_type": "code",
      "source": [
        "hasil_a = kombinasi(12,3)\n",
        "print(hasil_a)"
      ],
      "metadata": {
        "colab": {
          "base_uri": "https://localhost:8080/"
        },
        "id": "BIMCMEDXLdMA",
        "outputId": "7457caeb-de01-435d-88ed-972e01fb1e8b"
      },
      "execution_count": null,
      "outputs": [
        {
          "output_type": "stream",
          "name": "stdout",
          "text": [
            "220\n"
          ]
        }
      ]
    },
    {
      "cell_type": "markdown",
      "source": [
        "Jadi, ada 220 string biner dengan panjang 12 yang angka 1 nya tepat ada 3"
      ],
      "metadata": {
        "id": "XSG8YqjpUcwc"
      }
    },
    {
      "cell_type": "markdown",
      "source": [
        "**b** :\n",
        "\n",
        "Dik : n = 12 dan r = 0 sampai 3"
      ],
      "metadata": {
        "id": "v10PUOzlMSj_"
      }
    },
    {
      "cell_type": "code",
      "source": [
        "def kombinasi(n,r):\n",
        "  return math.factorial(n)//(math.factorial(r)*math.factorial(n-r))"
      ],
      "metadata": {
        "id": "AF64osUGMEAG"
      },
      "execution_count": null,
      "outputs": []
    },
    {
      "cell_type": "code",
      "source": [
        "# Ini untuk r = 0\n",
        "hasil_b = kombinasi(12,0)\n",
        "print(hasil_b)"
      ],
      "metadata": {
        "colab": {
          "base_uri": "https://localhost:8080/"
        },
        "id": "pVOiV5_XM0RA",
        "outputId": "3f49d482-6db7-474a-df30-1a1f1f034418"
      },
      "execution_count": null,
      "outputs": [
        {
          "output_type": "stream",
          "name": "stdout",
          "text": [
            "1\n"
          ]
        }
      ]
    },
    {
      "cell_type": "code",
      "source": [
        "# Ini untuk r = 1\n",
        "hasil_b = kombinasi(12,1)\n",
        "print(hasil_b)"
      ],
      "metadata": {
        "colab": {
          "base_uri": "https://localhost:8080/"
        },
        "id": "wlc4SfgvNWS6",
        "outputId": "d1149df1-ed80-4b4c-ce41-4a265c3de5f9"
      },
      "execution_count": null,
      "outputs": [
        {
          "output_type": "stream",
          "name": "stdout",
          "text": [
            "12\n"
          ]
        }
      ]
    },
    {
      "cell_type": "code",
      "source": [
        "# Ini untuk r = 2\n",
        "hasil_b = kombinasi(12,2)\n",
        "print(hasil_b)"
      ],
      "metadata": {
        "colab": {
          "base_uri": "https://localhost:8080/"
        },
        "id": "8bqYM8oWScbS",
        "outputId": "c786bb8d-5b5b-42d2-dfcd-af04fb57f9e0"
      },
      "execution_count": null,
      "outputs": [
        {
          "output_type": "stream",
          "name": "stdout",
          "text": [
            "66\n"
          ]
        }
      ]
    },
    {
      "cell_type": "code",
      "source": [
        "# Ini untuk r = 3\n",
        "hasil_b = kombinasi(12,3)\n",
        "print(hasil_b)"
      ],
      "metadata": {
        "colab": {
          "base_uri": "https://localhost:8080/"
        },
        "id": "6qXeHv3YSxLr",
        "outputId": "2cc1f33e-ae32-49fd-e70b-0d1e660afc56"
      },
      "execution_count": null,
      "outputs": [
        {
          "output_type": "stream",
          "name": "stdout",
          "text": [
            "220\n"
          ]
        }
      ]
    },
    {
      "cell_type": "code",
      "source": [
        "# Menjumlahkan semua hasilnya\n",
        "hasil_akhir_b = 1 + 12 + 66 + 220\n",
        "print(\"Hasil akhir = \", hasil_akhir_b)"
      ],
      "metadata": {
        "colab": {
          "base_uri": "https://localhost:8080/"
        },
        "id": "TJPSEWUAWlLE",
        "outputId": "f62eafa1-8b18-4ef7-db16-6535193ec4bc"
      },
      "execution_count": null,
      "outputs": [
        {
          "output_type": "stream",
          "name": "stdout",
          "text": [
            "Hasil akhir =  299\n"
          ]
        }
      ]
    },
    {
      "cell_type": "markdown",
      "source": [
        "Jadi, ada 299 string biner dengan panjang 12 yang angka 1 nya maksimal ada 3"
      ],
      "metadata": {
        "id": "3tCPyh-1T3RW"
      }
    },
    {
      "cell_type": "markdown",
      "source": [
        "**c** :\n",
        "\n",
        "Dik : n = 12 dan r = 3 sampai 12"
      ],
      "metadata": {
        "id": "7wCKft8IUXze"
      }
    },
    {
      "cell_type": "code",
      "source": [
        "def kombinasi(n,r):\n",
        "  return math.factorial(n)//(math.factorial(r)*math.factorial(n-r))"
      ],
      "metadata": {
        "id": "M1haGmPtS3hl"
      },
      "execution_count": null,
      "outputs": []
    },
    {
      "cell_type": "code",
      "source": [
        "# Ini untuk r = 3\n",
        "hasil_c = kombinasi(12,3)\n",
        "print(hasil_c)"
      ],
      "metadata": {
        "colab": {
          "base_uri": "https://localhost:8080/"
        },
        "id": "6-y0sta0X8q4",
        "outputId": "27e750ba-1662-4ab3-894c-60eed4d32127"
      },
      "execution_count": null,
      "outputs": [
        {
          "output_type": "stream",
          "name": "stdout",
          "text": [
            "220\n"
          ]
        }
      ]
    },
    {
      "cell_type": "code",
      "source": [
        "# Ini untuk r = 4\n",
        "hasil_c = kombinasi(12,4)\n",
        "print(hasil_c)"
      ],
      "metadata": {
        "colab": {
          "base_uri": "https://localhost:8080/"
        },
        "id": "FdtiAUI8YF_Q",
        "outputId": "35307f59-c99f-481d-f2c7-4c55ed9012a4"
      },
      "execution_count": null,
      "outputs": [
        {
          "output_type": "stream",
          "name": "stdout",
          "text": [
            "495\n"
          ]
        }
      ]
    },
    {
      "cell_type": "code",
      "source": [
        "# Ini untuk r = 5\n",
        "hasil_c = kombinasi(12,5)\n",
        "print(hasil_c)"
      ],
      "metadata": {
        "colab": {
          "base_uri": "https://localhost:8080/"
        },
        "id": "ZOvVf58sYJlz",
        "outputId": "83f3241e-bd36-49f3-fc7f-6167fb21a3ad"
      },
      "execution_count": null,
      "outputs": [
        {
          "output_type": "stream",
          "name": "stdout",
          "text": [
            "792\n"
          ]
        }
      ]
    },
    {
      "cell_type": "code",
      "source": [
        "# Ini untuk r = 6\n",
        "hasil_c = kombinasi(12,6)\n",
        "print(hasil_c)"
      ],
      "metadata": {
        "colab": {
          "base_uri": "https://localhost:8080/"
        },
        "id": "EkELtUMNYLhq",
        "outputId": "4199be81-4759-40dd-d06d-cd7ff2d254bb"
      },
      "execution_count": null,
      "outputs": [
        {
          "output_type": "stream",
          "name": "stdout",
          "text": [
            "924\n"
          ]
        }
      ]
    },
    {
      "cell_type": "code",
      "source": [
        "# Ini untuk r = 7\n",
        "hasil_c = kombinasi(12,7)\n",
        "print(hasil_c)"
      ],
      "metadata": {
        "colab": {
          "base_uri": "https://localhost:8080/"
        },
        "id": "fsyKxNwuYNIP",
        "outputId": "4a46668f-6b9b-4d8f-9027-cc00d0dc7cac"
      },
      "execution_count": null,
      "outputs": [
        {
          "output_type": "stream",
          "name": "stdout",
          "text": [
            "792\n"
          ]
        }
      ]
    },
    {
      "cell_type": "code",
      "source": [
        "# Ini untuk r = 8\n",
        "hasil_c = kombinasi(12,8)\n",
        "print(hasil_c)"
      ],
      "metadata": {
        "colab": {
          "base_uri": "https://localhost:8080/"
        },
        "id": "eCJmMbcoYPGo",
        "outputId": "1b65ab70-8bea-4420-c00c-bd9b7c7e1a24"
      },
      "execution_count": null,
      "outputs": [
        {
          "output_type": "stream",
          "name": "stdout",
          "text": [
            "495\n"
          ]
        }
      ]
    },
    {
      "cell_type": "code",
      "source": [
        "# Ini untuk r = 9\n",
        "hasil_c = kombinasi(12,9)\n",
        "print(hasil_c)"
      ],
      "metadata": {
        "colab": {
          "base_uri": "https://localhost:8080/"
        },
        "id": "Sspd__PhYQ2G",
        "outputId": "f5b5c02d-8716-4dca-846d-300acf976dbd"
      },
      "execution_count": null,
      "outputs": [
        {
          "output_type": "stream",
          "name": "stdout",
          "text": [
            "220\n"
          ]
        }
      ]
    },
    {
      "cell_type": "code",
      "source": [
        "# Ini untuk r = 10\n",
        "hasil_c = kombinasi(12,10)\n",
        "print(hasil_c)"
      ],
      "metadata": {
        "colab": {
          "base_uri": "https://localhost:8080/"
        },
        "id": "ko8Qz1zjYSUl",
        "outputId": "97091b9a-33b8-4487-d7da-fd78342d27c3"
      },
      "execution_count": null,
      "outputs": [
        {
          "output_type": "stream",
          "name": "stdout",
          "text": [
            "66\n"
          ]
        }
      ]
    },
    {
      "cell_type": "code",
      "source": [
        "# Ini untuk r = 11\n",
        "hasil_c = kombinasi(12,11)\n",
        "print(hasil_c)"
      ],
      "metadata": {
        "colab": {
          "base_uri": "https://localhost:8080/"
        },
        "id": "uk5GmUesYUSW",
        "outputId": "3aa76bc7-d997-4146-8f3d-7ba58c2c275f"
      },
      "execution_count": null,
      "outputs": [
        {
          "output_type": "stream",
          "name": "stdout",
          "text": [
            "12\n"
          ]
        }
      ]
    },
    {
      "cell_type": "code",
      "source": [
        "# Ini untuk r = 12\n",
        "hasil_c = kombinasi(12,12)\n",
        "print(hasil_c)"
      ],
      "metadata": {
        "colab": {
          "base_uri": "https://localhost:8080/"
        },
        "id": "ZkrDsQAGYVri",
        "outputId": "71a728b1-54d8-4dfa-9344-abdaad60dd3d"
      },
      "execution_count": null,
      "outputs": [
        {
          "output_type": "stream",
          "name": "stdout",
          "text": [
            "1\n"
          ]
        }
      ]
    },
    {
      "cell_type": "code",
      "source": [
        "# Menjumlahkan semua hasilnya\n",
        "hasil_akhir_c = 220 + 495 + 792 + 924 + 792 + 495 + 220 + 66 + 12 + 1\n",
        "print(\"Hasil akhir = \", hasil_akhir_c)"
      ],
      "metadata": {
        "colab": {
          "base_uri": "https://localhost:8080/"
        },
        "id": "SM-ykJPBYW-g",
        "outputId": "b30542fb-1520-42a5-9c90-fa416116e9c6"
      },
      "execution_count": null,
      "outputs": [
        {
          "output_type": "stream",
          "name": "stdout",
          "text": [
            "Hasil akhir =  4017\n"
          ]
        }
      ]
    },
    {
      "cell_type": "markdown",
      "source": [
        "Jadi,  ada 4.017 string biner dengan panjang 12 yang angka 1 minimal ada 3"
      ],
      "metadata": {
        "id": "Ckt0HCCaYyvt"
      }
    },
    {
      "cell_type": "markdown",
      "source": [
        "**d** :\n",
        "\n",
        "Dik : n = 12 dan r = 6"
      ],
      "metadata": {
        "id": "IqjJS4UPZMB_"
      }
    },
    {
      "cell_type": "code",
      "source": [
        "def kombinasi(n,r):\n",
        "  return math.factorial(n)//(math.factorial(r)*math.factorial(n-r))"
      ],
      "metadata": {
        "id": "SIQuD31NYwcG"
      },
      "execution_count": null,
      "outputs": []
    },
    {
      "cell_type": "code",
      "source": [
        "hasil_d = kombinasi(12,6)\n",
        "print(hasil_d)"
      ],
      "metadata": {
        "colab": {
          "base_uri": "https://localhost:8080/"
        },
        "id": "cdfUxt9IZZPZ",
        "outputId": "c794a1c7-9e60-491d-b2f1-fdf0912bdf56"
      },
      "execution_count": null,
      "outputs": [
        {
          "output_type": "stream",
          "name": "stdout",
          "text": [
            "924\n"
          ]
        }
      ]
    },
    {
      "cell_type": "markdown",
      "source": [
        "Jadi, ada 924 string biner dengan panjang 12 yang angka 0 dan 1 nya jumlahnya sama\n",
        "\n",
        "Ringkasan jawaban nomor 12 :\n",
        "\n",
        "a). 220\n",
        "\n",
        "b). 299\n",
        "\n",
        "c). 4.017\n",
        "\n",
        "d). 924"
      ],
      "metadata": {
        "id": "s9YN-yeAZoEj"
      }
    },
    {
      "cell_type": "markdown",
      "source": [
        " -------------------------------------------------------------------------------"
      ],
      "metadata": {
        "id": "NlQuFgU9aDNf"
      }
    },
    {
      "cell_type": "markdown",
      "source": [
        "13. A group contains n men and n women. How many ways\n",
        "are there to arrange these people in a row if the men and\n",
        "women alternate?\n",
        "\n",
        "    Jawab :\n",
        "\n",
        "    Diketahui ada n! cara untuk menyusun n pria dan n! cara untuk n menyusun wanita, maka setiap pola jumlah penyusunannya adalah n! * n! atau n!^2.\n",
        "\n",
        "    Karena r nya atau pola nya ada 2 (pola pertama pria yang duluan dan pola kedua wanita yang duluan), maka total cara penyusunannya adalah :\n",
        "\n",
        "    r * (n!)^2\n",
        "\n",
        "    = 2 * (n!)^2"
      ],
      "metadata": {
        "id": "qru2fk5bZ6-f"
      }
    },
    {
      "cell_type": "code",
      "source": [
        "# Kita anggap n nya adalah 5\n",
        "n = 5\n",
        "r = 2\n",
        "\n",
        "cara_penyusunan = r*(math.factorial(n)**2)\n",
        "print(cara_penyusunan)"
      ],
      "metadata": {
        "id": "nXfMa279fiJ5",
        "colab": {
          "base_uri": "https://localhost:8080/"
        },
        "outputId": "73f27883-02a6-4748-dfcf-2ee8aca6115b"
      },
      "execution_count": null,
      "outputs": [
        {
          "output_type": "stream",
          "name": "stdout",
          "text": [
            "28800\n"
          ]
        }
      ]
    },
    {
      "cell_type": "markdown",
      "source": [
        "Jadi, banyaknya cara untuk menyusun orang-orang itu jika pria dan wanita harus berselang-seling adalah sebanyak 28.800 cara"
      ],
      "metadata": {
        "id": "Bjll3XbbZH87"
      }
    },
    {
      "cell_type": "markdown",
      "source": [
        "--------------------------------------------------------------------------------"
      ],
      "metadata": {
        "id": "PVGlGihMZsog"
      }
    },
    {
      "cell_type": "markdown",
      "source": [
        "14. In how many ways can a set of two positive integers less\n",
        "than 100 be chosen?\n",
        "\n",
        "    Jawab :\n",
        "\n",
        "    Dik : n = 99 (karena kurang dari 100) dan r = 2"
      ],
      "metadata": {
        "id": "Kc-llns_Z3Yd"
      }
    },
    {
      "cell_type": "code",
      "source": [
        "def kombinasi(n,r):\n",
        "  return math.factorial(n)//(math.factorial(r)*math.factorial(n-r))"
      ],
      "metadata": {
        "id": "IrkBWGlXYwL_"
      },
      "execution_count": null,
      "outputs": []
    },
    {
      "cell_type": "code",
      "source": [
        "hasil = kombinasi(99,2)\n",
        "print(hasil)"
      ],
      "metadata": {
        "colab": {
          "base_uri": "https://localhost:8080/"
        },
        "id": "-GaQh_qubmq6",
        "outputId": "99c64131-48ce-4342-b7c7-09b502274188"
      },
      "execution_count": null,
      "outputs": [
        {
          "output_type": "stream",
          "name": "stdout",
          "text": [
            "4851\n"
          ]
        }
      ]
    },
    {
      "cell_type": "markdown",
      "source": [
        "Jadi, ada 4.851 cara untuk memilih 2 bilangan bulat positif yang kurang dari 100"
      ],
      "metadata": {
        "id": "KS0Bh-9ZcC6g"
      }
    },
    {
      "cell_type": "markdown",
      "source": [
        "--------------------------------------------------------------------------------"
      ],
      "metadata": {
        "id": "TxAQ1JlvcOOI"
      }
    },
    {
      "cell_type": "markdown",
      "source": [
        "15. In how many ways can a set of five letters be selected\n",
        "from the English alphabet?\n",
        "\n",
        "    Jawab :\n",
        "\n",
        "    Dik : n = 26 (karena jumlah alfabet ada 26) dan r = 5"
      ],
      "metadata": {
        "id": "XEXPdnz6cc2-"
      }
    },
    {
      "cell_type": "code",
      "source": [
        "def kombinasi(n,r):\n",
        "  return math.factorial(n)//(math.factorial(r)*math.factorial(n-r))"
      ],
      "metadata": {
        "id": "_94kG6h7b6oo"
      },
      "execution_count": null,
      "outputs": []
    },
    {
      "cell_type": "code",
      "source": [
        "hasil = kombinasi(26,5)\n",
        "print(hasil)"
      ],
      "metadata": {
        "colab": {
          "base_uri": "https://localhost:8080/"
        },
        "id": "qsawIt-XdBUP",
        "outputId": "75b3e6fe-7ebe-41c4-d028-5673e1e15894"
      },
      "execution_count": null,
      "outputs": [
        {
          "output_type": "stream",
          "name": "stdout",
          "text": [
            "65780\n"
          ]
        }
      ]
    },
    {
      "cell_type": "markdown",
      "source": [
        "Jadi, ada 65.780 cara untuk memilih 5 huruf dari alfabet"
      ],
      "metadata": {
        "id": "SJxP0RxEdOLB"
      }
    },
    {
      "cell_type": "markdown",
      "source": [
        "--------------------------------------------------------------------------------"
      ],
      "metadata": {
        "id": "Aq69eFYtdYuW"
      }
    },
    {
      "cell_type": "markdown",
      "source": [
        "16. How many subsets with an odd number of elements does\n",
        "a set with 10 elements have?\n",
        "\n",
        "    Jawab :\n",
        "    \n",
        "    Dik : n = 10\n",
        "\n",
        "    Jumlah total subset dari himpunan dengan n elemen adalah :\n",
        "\n",
        "    2^n"
      ],
      "metadata": {
        "id": "iemOpZERdbUj"
      }
    },
    {
      "cell_type": "code",
      "source": [
        "n = 10\n",
        "\n",
        "total_jumlah = 2**n\n",
        "print(total_jumlah)"
      ],
      "metadata": {
        "colab": {
          "base_uri": "https://localhost:8080/"
        },
        "id": "5dZ0Vu47dLj7",
        "outputId": "ebbfe4f4-462e-462d-d9d3-1e52f46c0d68"
      },
      "execution_count": null,
      "outputs": [
        {
          "output_type": "stream",
          "name": "stdout",
          "text": [
            "1024\n"
          ]
        }
      ]
    },
    {
      "cell_type": "markdown",
      "source": [
        "Dari 1.024 subset ini, setengahnya akan memiliki jumlah elemen ganjil dan setengahnya lagi genap, maka harus dibagi 2 dulu"
      ],
      "metadata": {
        "id": "LAOSYUu-giNN"
      }
    },
    {
      "cell_type": "code",
      "source": [
        "subset_dengan_jumlahElementnyaGanjil = total_jumlah//2\n",
        "print(subset_dengan_jumlahElementnyaGanjil)"
      ],
      "metadata": {
        "colab": {
          "base_uri": "https://localhost:8080/"
        },
        "id": "6CbyUH7Hgfs5",
        "outputId": "3ee6fa3d-cc42-4335-cef5-183bf0b8effe"
      },
      "execution_count": null,
      "outputs": [
        {
          "output_type": "stream",
          "name": "stdout",
          "text": [
            "512\n"
          ]
        }
      ]
    },
    {
      "cell_type": "markdown",
      "source": [
        "Jadi, ada 512 subset dengan jumlah elemennya ganjil."
      ],
      "metadata": {
        "id": "5CbjUA6fhmZ7"
      }
    },
    {
      "cell_type": "markdown",
      "source": [
        "--------------------------------------------------------------------------------"
      ],
      "metadata": {
        "id": "HVlQYGsphsuS"
      }
    },
    {
      "cell_type": "markdown",
      "source": [
        "17. How many subsets with more than two elements does a\n",
        "set with 100 elements have?\n",
        "\n",
        "    Jawab :\n",
        "\n",
        "    Dik : n = 100\n",
        "\n",
        "    Jumlah total subset dari himpunan dengan n elemen adalah :\n",
        "\n",
        "    2^n"
      ],
      "metadata": {
        "id": "LJHPEjsjhw1I"
      }
    },
    {
      "cell_type": "code",
      "source": [
        "n = 100\n",
        "\n",
        "total_subset = 2**n\n",
        "print(f\"{total_subset:,}\")"
      ],
      "metadata": {
        "colab": {
          "base_uri": "https://localhost:8080/"
        },
        "id": "7QDjmBBEhJeB",
        "outputId": "08a4d366-95e0-45c3-af0e-fdc17bf0197e"
      },
      "execution_count": 70,
      "outputs": [
        {
          "output_type": "stream",
          "name": "stdout",
          "text": [
            "1,267,650,600,228,229,401,496,703,205,376\n"
          ]
        }
      ]
    },
    {
      "cell_type": "markdown",
      "source": [
        "Kemudian kita mengurangi total subset itu dengan subset yang memiliki 2 elemen atau kurang (berarti r = 0 sampai 2)"
      ],
      "metadata": {
        "id": "Oj44_2NklyP4"
      }
    },
    {
      "cell_type": "code",
      "source": [
        "def kombinasi(n,r):\n",
        "  return math.factorial(n)//(math.factorial(r)*math.factorial(n-r))"
      ],
      "metadata": {
        "id": "0XzFELWKla47"
      },
      "execution_count": 71,
      "outputs": []
    },
    {
      "cell_type": "code",
      "source": [
        "# Ini untuk r = 0\n",
        "hasil = kombinasi(100,0)\n",
        "print(hasil)"
      ],
      "metadata": {
        "colab": {
          "base_uri": "https://localhost:8080/"
        },
        "id": "LvjXlbUjmUIn",
        "outputId": "770e40b0-46d9-449b-d478-5e76ab2d4bee"
      },
      "execution_count": 72,
      "outputs": [
        {
          "output_type": "stream",
          "name": "stdout",
          "text": [
            "1\n"
          ]
        }
      ]
    },
    {
      "cell_type": "code",
      "source": [
        "# Ini untuk r = 1\n",
        "hasil = kombinasi(100,1)\n",
        "print(hasil)"
      ],
      "metadata": {
        "colab": {
          "base_uri": "https://localhost:8080/"
        },
        "id": "WN51X-Pvmf0T",
        "outputId": "0d3a5c52-80fc-434e-aaeb-07c5caba8d44"
      },
      "execution_count": 73,
      "outputs": [
        {
          "output_type": "stream",
          "name": "stdout",
          "text": [
            "100\n"
          ]
        }
      ]
    },
    {
      "cell_type": "code",
      "source": [
        "# Ini untuk r = 2\n",
        "hasil = kombinasi(100,2)\n",
        "print(hasil)"
      ],
      "metadata": {
        "colab": {
          "base_uri": "https://localhost:8080/"
        },
        "id": "AjsEGVXzmiy0",
        "outputId": "6850f73e-fc72-4cb5-a7af-05282610d37e"
      },
      "execution_count": 74,
      "outputs": [
        {
          "output_type": "stream",
          "name": "stdout",
          "text": [
            "4950\n"
          ]
        }
      ]
    },
    {
      "cell_type": "code",
      "source": [
        "# Menjumlahkan hasilnya\n",
        "jumlah_hasil = 1 + 100 + 4950\n",
        "print(jumlah_hasil)"
      ],
      "metadata": {
        "colab": {
          "base_uri": "https://localhost:8080/"
        },
        "id": "LDMGlSsJmlO1",
        "outputId": "85d130a4-ff85-43fd-ebcb-9c268f338eb3"
      },
      "execution_count": 75,
      "outputs": [
        {
          "output_type": "stream",
          "name": "stdout",
          "text": [
            "5051\n"
          ]
        }
      ]
    },
    {
      "cell_type": "markdown",
      "source": [
        "Sekarang kita mengurangi total subset dengan 5.051"
      ],
      "metadata": {
        "id": "i3gNv-XNnRtn"
      }
    },
    {
      "cell_type": "code",
      "source": [
        "subset_YangMemiliki_LebihDari_2Elemen = total_subset - jumlah_hasil\n",
        "print(f\"{subset_YangMemiliki_LebihDari_2Elemen:,}\")"
      ],
      "metadata": {
        "colab": {
          "base_uri": "https://localhost:8080/"
        },
        "id": "bmAzHGfqnPAj",
        "outputId": "e56e4b4e-7033-498d-b7a6-32c0addc88ca"
      },
      "execution_count": 76,
      "outputs": [
        {
          "output_type": "stream",
          "name": "stdout",
          "text": [
            "1,267,650,600,228,229,401,496,703,200,325\n"
          ]
        }
      ]
    },
    {
      "cell_type": "markdown",
      "source": [
        "Jadi, jumlah subset yang memiliki elemen lebih dari 2 dengan 100 elemen adalah : 1.267.650.600.228.229.401.496.703.200.325 (banyak yah)"
      ],
      "metadata": {
        "id": "u_Yr7hl0n2JX"
      }
    },
    {
      "cell_type": "markdown",
      "source": [
        "--------------------------------------------------------------------------------"
      ],
      "metadata": {
        "id": "S5CCNGPbpCNm"
      }
    },
    {
      "cell_type": "markdown",
      "source": [
        "18. A coin is flipped eight times where each flip comes up\n",
        "either heads or tails. How many possible outcomes\n",
        "\n",
        "    a) are there in total?\n",
        "\n",
        "    b) contain exactly three heads?\n",
        "\n",
        "    c) contain at least three heads?\n",
        "\n",
        "    d) contain the same number of heads and tails?\n",
        "\n",
        "    Jawab :\n",
        "\n",
        "**a** :\n",
        "\n",
        "Dik : n = 8\n",
        "\n",
        "Total kemungkinan hasil adalah :\n",
        "\n",
        "2^n"
      ],
      "metadata": {
        "id": "N7nXGYPRpGcQ"
      }
    },
    {
      "cell_type": "code",
      "source": [
        "n = 8\n",
        "\n",
        "total_kemungkinan_hasil = 2**n\n",
        "print(total_kemungkinan_hasil)"
      ],
      "metadata": {
        "colab": {
          "base_uri": "https://localhost:8080/"
        },
        "id": "knu6wCHMn1PK",
        "outputId": "6e2c7ac1-10ee-4ac7-df67-214b8e2a3371"
      },
      "execution_count": null,
      "outputs": [
        {
          "output_type": "stream",
          "name": "stdout",
          "text": [
            "256\n"
          ]
        }
      ]
    },
    {
      "cell_type": "markdown",
      "source": [
        "Jadi, terdapat 256 kemungkinan hasilnya secara keseluruhan"
      ],
      "metadata": {
        "id": "mQY6X1imrsWU"
      }
    },
    {
      "cell_type": "markdown",
      "source": [
        "**b** :\n",
        "\n",
        "Dik : n = 8 dan r = 3"
      ],
      "metadata": {
        "id": "Zg8ftnsJrv-Q"
      }
    },
    {
      "cell_type": "code",
      "source": [
        "def kombinasi(n,r):\n",
        "  return math.factorial(n)//(math.factorial(r)*math.factorial(n-r))"
      ],
      "metadata": {
        "id": "_H8q9RRErGo3"
      },
      "execution_count": null,
      "outputs": []
    },
    {
      "cell_type": "code",
      "source": [
        "hasil = kombinasi(8,3)\n",
        "print(hasil)"
      ],
      "metadata": {
        "colab": {
          "base_uri": "https://localhost:8080/"
        },
        "id": "qbXtnmr2sRHf",
        "outputId": "606d09bd-bb83-453e-9d7e-c3eccfe26457"
      },
      "execution_count": null,
      "outputs": [
        {
          "output_type": "stream",
          "name": "stdout",
          "text": [
            "56\n"
          ]
        }
      ]
    },
    {
      "cell_type": "markdown",
      "source": [
        "Jadi, terdapat 56 hasil yang mengandung tepat tiga heads"
      ],
      "metadata": {
        "id": "LGvBgI1QsYL3"
      }
    },
    {
      "cell_type": "markdown",
      "source": [
        "**c** :\n",
        "\n",
        "Dik : n = 8 dan r = 3 sampai 8"
      ],
      "metadata": {
        "id": "F0w5G9eXsfEl"
      }
    },
    {
      "cell_type": "code",
      "source": [
        "def kombinasi(n,r):\n",
        "  return math.factorial(n)//(math.factorial(r)*math.factorial(n-r))"
      ],
      "metadata": {
        "id": "eWBPlFSQsW7P"
      },
      "execution_count": null,
      "outputs": []
    },
    {
      "cell_type": "code",
      "source": [
        "# Ini untuk r = 3\n",
        "hasil = kombinasi(8,3)\n",
        "print(hasil)"
      ],
      "metadata": {
        "colab": {
          "base_uri": "https://localhost:8080/"
        },
        "id": "c5HoDL5aswQe",
        "outputId": "2df64674-bf36-488a-8bc8-884b724bfbe8"
      },
      "execution_count": null,
      "outputs": [
        {
          "output_type": "stream",
          "name": "stdout",
          "text": [
            "56\n"
          ]
        }
      ]
    },
    {
      "cell_type": "code",
      "source": [
        "# Ini untuk r = 4\n",
        "hasil = kombinasi(8,4)\n",
        "print(hasil)"
      ],
      "metadata": {
        "colab": {
          "base_uri": "https://localhost:8080/"
        },
        "id": "BMZ3arySsyxY",
        "outputId": "68c10779-a2cd-4279-edee-e46293cd5f63"
      },
      "execution_count": null,
      "outputs": [
        {
          "output_type": "stream",
          "name": "stdout",
          "text": [
            "70\n"
          ]
        }
      ]
    },
    {
      "cell_type": "code",
      "source": [
        "# Ini untuk r = 5\n",
        "hasil = kombinasi(8,5)\n",
        "print(hasil)"
      ],
      "metadata": {
        "colab": {
          "base_uri": "https://localhost:8080/"
        },
        "id": "C0uvVRVjsz6B",
        "outputId": "45f8047d-345d-4233-81a8-deaedbd48321"
      },
      "execution_count": null,
      "outputs": [
        {
          "output_type": "stream",
          "name": "stdout",
          "text": [
            "56\n"
          ]
        }
      ]
    },
    {
      "cell_type": "code",
      "source": [
        "# Ini untuk r = 6\n",
        "hasil = kombinasi(8,6)\n",
        "print(hasil)"
      ],
      "metadata": {
        "colab": {
          "base_uri": "https://localhost:8080/"
        },
        "id": "KFBAwn4Rs19A",
        "outputId": "8fc7404e-8a78-489f-e75d-b963fb1149dd"
      },
      "execution_count": null,
      "outputs": [
        {
          "output_type": "stream",
          "name": "stdout",
          "text": [
            "28\n"
          ]
        }
      ]
    },
    {
      "cell_type": "code",
      "source": [
        "# Ini untuk r = 7\n",
        "hasil = kombinasi(8,7)\n",
        "print(hasil)"
      ],
      "metadata": {
        "colab": {
          "base_uri": "https://localhost:8080/"
        },
        "id": "L3cxZXw4tXyJ",
        "outputId": "4b8abc85-2873-457d-b240-09e3e98a866e"
      },
      "execution_count": null,
      "outputs": [
        {
          "output_type": "stream",
          "name": "stdout",
          "text": [
            "8\n"
          ]
        }
      ]
    },
    {
      "cell_type": "code",
      "source": [
        "# Ini untuk r = 8\n",
        "hasil = kombinasi(8,8)\n",
        "print(hasil)"
      ],
      "metadata": {
        "colab": {
          "base_uri": "https://localhost:8080/"
        },
        "id": "hSZr08hataAM",
        "outputId": "213292fd-293f-4e14-86d9-c2cb2a8fbc8c"
      },
      "execution_count": null,
      "outputs": [
        {
          "output_type": "stream",
          "name": "stdout",
          "text": [
            "1\n"
          ]
        }
      ]
    },
    {
      "cell_type": "code",
      "source": [
        "# Menjumlahkan hasilnya\n",
        "jumlah_hasil = 56 + 70 + 56 + 28 + 8 + 1\n",
        "print(jumlah_hasil)"
      ],
      "metadata": {
        "colab": {
          "base_uri": "https://localhost:8080/"
        },
        "id": "kiowdGswtbtC",
        "outputId": "5f2452e4-ac3a-45a6-b72b-8d8954f3cf90"
      },
      "execution_count": null,
      "outputs": [
        {
          "output_type": "stream",
          "name": "stdout",
          "text": [
            "219\n"
          ]
        }
      ]
    },
    {
      "cell_type": "markdown",
      "source": [
        "Jadi, terdapat 219 hasil dengan setidaknya tiga heads"
      ],
      "metadata": {
        "id": "imiFrJqMtrVL"
      }
    },
    {
      "cell_type": "markdown",
      "source": [
        "**d** :\n",
        "\n",
        "Dik : n = 8 dan r = 4"
      ],
      "metadata": {
        "id": "mTjRmVZKtup8"
      }
    },
    {
      "cell_type": "code",
      "source": [
        "def kombinasi(n,r):\n",
        "  return math.factorial(n)//(math.factorial(r)*math.factorial(n-r))"
      ],
      "metadata": {
        "id": "w_e2Cii1toOp"
      },
      "execution_count": null,
      "outputs": []
    },
    {
      "cell_type": "code",
      "source": [
        "# Ini untuk r = 4\n",
        "hasil = kombinasi(8,4)\n",
        "print(hasil)"
      ],
      "metadata": {
        "colab": {
          "base_uri": "https://localhost:8080/"
        },
        "id": "U80IKfO_t7Wi",
        "outputId": "9455716d-b15d-4ca1-b820-16af082c4064"
      },
      "execution_count": null,
      "outputs": [
        {
          "output_type": "stream",
          "name": "stdout",
          "text": [
            "70\n"
          ]
        }
      ]
    },
    {
      "cell_type": "markdown",
      "source": [
        "Jadi, terdapat 70 hasil dengan jumlah heads dan tails yang sama\n",
        "\n",
        "Ringkasan jawaban nomor 18 :\n",
        "\n",
        "a). 256\n",
        "\n",
        "b). 56\n",
        "\n",
        "c). 219\n",
        "\n",
        "d). 70"
      ],
      "metadata": {
        "id": "y63qqHjauAvg"
      }
    }
  ]
}